{
 "cells": [
  {
   "cell_type": "markdown",
   "id": "7904dabf",
   "metadata": {},
   "source": [
    "# 1a. Get Recipe Links from WhatsGabyCooking.com"
   ]
  },
  {
   "cell_type": "code",
   "execution_count": 1,
   "id": "7315cb18",
   "metadata": {},
   "outputs": [],
   "source": [
    "import re\n",
    "\n",
    "import requests, bs4\n",
    "from bs4 import BeautifulSoup as bs\n",
    "import pandas as pd\n",
    "from pprint import pprint\n",
    "from fake_useragent import UserAgent"
   ]
  },
  {
   "cell_type": "markdown",
   "id": "1503280e",
   "metadata": {},
   "source": [
    "### Step 1. Pulling all of the links to recipe pages"
   ]
  },
  {
   "cell_type": "code",
   "execution_count": 2,
   "id": "279f8c83",
   "metadata": {},
   "outputs": [],
   "source": [
    "HEADERS = {\n",
    "    'User-Agent': 'Mozilla/5.0 (Windows NT 10.0; Win64; x64) AppleWebKit/537.36 (KHTML, like Gecko) Chrome/58.0.3029.110 Safari/537.36'\n",
    "}"
   ]
  },
  {
   "cell_type": "code",
   "execution_count": 4,
   "id": "9bed1e82",
   "metadata": {},
   "outputs": [],
   "source": [
    "def check_response(url):\n",
    "    response = requests.get(url, headers = HEADERS)\n",
    "    status = response.status_code\n",
    "    if status == 200:\n",
    "      page = response.text\n",
    "      soup = bs(page)\n",
    "    else:\n",
    "      print(f\"Oops! Received status code {status} for {url}\")\n",
    "    \n",
    "    return soup"
   ]
  },
  {
   "cell_type": "code",
   "execution_count": 37,
   "id": "53ec777b",
   "metadata": {},
   "outputs": [],
   "source": [
    "def get_category_pages(category_url, category):\n",
    "    '''\n",
    "    Argumnets:\n",
    "    -category_url: the url of a specific category of recipe\n",
    "    -category: the label of the category \n",
    "    \n",
    "    Returns: a list of links for each category\n",
    "    '''\n",
    "    # Set up the response\n",
    "    category_page_soup = check_response(category_url)\n",
    "    \n",
    "    # create list for page_number_links\n",
    "    category_page_links = []\n",
    "    category_page_links.append(category_url) # append first page - just the category link\n",
    "    \n",
    "    if category == 'sauces': # only 1 page\n",
    "        pass\n",
    "    else:\n",
    "        next_page = category_page_soup.find_all('a',{'class':'page-link'})\n",
    "        final_page_str = next_page[-2].get_text()\n",
    "        final_page = int(final_page_str)\n",
    "\n",
    "        for i in range(2,final_page + 1):\n",
    "            category_page_links.append(f'https://whatsgabycooking.com/category/categories/{category}/page/{i}')\n",
    "    \n",
    "    return category_page_links\n",
    "\n",
    "def get_category_recipes(url):\n",
    "    '''\n",
    "    Arguments:\n",
    "    -url: The url for a single page in specific category (e.g. page 2 of 14)\n",
    "        - A single value in the list returned by function get_category_pages (defined above)\n",
    "    \n",
    "    Returns: a list of recipe links for that page\n",
    "    '''\n",
    "    recipe_soup = check_response(url)\n",
    "    \n",
    "    # Get the links to individual recipes\n",
    "    recipe_html_links = recipe_soup.find_all('h2',{'class':'entry-title archive-entry-title'})\n",
    "    recipe_links = []\n",
    "    for row in recipe_html_links:\n",
    "        link = row.find('a')['href']\n",
    "        recipe_links.append(link)\n",
    "        \n",
    "    return recipe_links"
   ]
  },
  {
   "cell_type": "code",
   "execution_count": 38,
   "id": "929466b4",
   "metadata": {},
   "outputs": [],
   "source": [
    "url = 'https://whatsgabycooking.com/category/categories/'\n",
    "whats_gaby_cooking = check_response(url)"
   ]
  },
  {
   "cell_type": "code",
   "execution_count": 39,
   "id": "4fe50f4f",
   "metadata": {},
   "outputs": [],
   "source": [
    "cat_html_links = whats_gaby_cooking.find_all('h2',{'class':'entry-title archive-entry-title'})\n",
    "categories = []\n",
    "for row in cat_html_links:\n",
    "    test = row.find('a')['href']\n",
    "    categories.append(test)"
   ]
  },
  {
   "cell_type": "code",
   "execution_count": 40,
   "id": "7e64463c",
   "metadata": {
    "scrolled": false
   },
   "outputs": [
    {
     "data": {
      "text/plain": [
       "['appetizerssmall-bites',\n",
       " 'avocado-central',\n",
       " 'bowls',\n",
       " 'bread1',\n",
       " 'breakfast-and-brunch',\n",
       " 'snacks',\n",
       " 'main-course',\n",
       " 'dessert',\n",
       " 'beveragecocktail',\n",
       " 'food-restrictions-allergies',\n",
       " 'game-day',\n",
       " 'grilling',\n",
       " 'healthyfigure-friendly',\n",
       " 'holiday',\n",
       " 'lunch',\n",
       " 'meat',\n",
       " 'pastarisotto',\n",
       " 'pizza',\n",
       " 'poultry-categories',\n",
       " 'salad',\n",
       " 'sandwiches-burgers',\n",
       " 'sauces',\n",
       " 'seafood',\n",
       " 'seasonal',\n",
       " 'side-dish',\n",
       " 'snacks-categories',\n",
       " 'soupsandwichburger',\n",
       " 'tacos',\n",
       " 'vegetarian']"
      ]
     },
     "execution_count": 40,
     "metadata": {},
     "output_type": "execute_result"
    }
   ],
   "source": [
    "categories"
   ]
  },
  {
   "cell_type": "code",
   "execution_count": 41,
   "id": "29046543",
   "metadata": {
    "scrolled": false
   },
   "outputs": [
    {
     "data": {
      "text/plain": [
       "['https://whatsgabycooking.com/category/categories/appetizerssmall-bites',\n",
       " 'https://whatsgabycooking.com/category/categories/avocado-central',\n",
       " 'https://whatsgabycooking.com/category/categories/bowls',\n",
       " 'https://whatsgabycooking.com/category/categories/bread1',\n",
       " 'https://whatsgabycooking.com/category/categories/breakfast-and-brunch',\n",
       " 'https://whatsgabycooking.com/category/categories/snacks',\n",
       " 'https://whatsgabycooking.com/category/categories/main-course',\n",
       " 'https://whatsgabycooking.com/category/categories/dessert',\n",
       " 'https://whatsgabycooking.com/category/categories/beveragecocktail',\n",
       " 'https://whatsgabycooking.com/category/categories/food-restrictions-allergies',\n",
       " 'https://whatsgabycooking.com/category/categories/game-day',\n",
       " 'https://whatsgabycooking.com/category/categories/grilling',\n",
       " 'https://whatsgabycooking.com/category/categories/healthyfigure-friendly',\n",
       " 'https://whatsgabycooking.com/category/categories/holiday',\n",
       " 'https://whatsgabycooking.com/category/categories/lunch',\n",
       " 'https://whatsgabycooking.com/category/categories/meat',\n",
       " 'https://whatsgabycooking.com/category/categories/pastarisotto',\n",
       " 'https://whatsgabycooking.com/category/categories/pizza',\n",
       " 'https://whatsgabycooking.com/category/categories/poultry-categories',\n",
       " 'https://whatsgabycooking.com/category/categories/salad',\n",
       " 'https://whatsgabycooking.com/category/categories/sandwiches-burgers',\n",
       " 'https://whatsgabycooking.com/category/categories/sauces',\n",
       " 'https://whatsgabycooking.com/category/categories/seafood',\n",
       " 'https://whatsgabycooking.com/category/categories/seasonal',\n",
       " 'https://whatsgabycooking.com/category/categories/side-dish',\n",
       " 'https://whatsgabycooking.com/category/categories/snacks-categories',\n",
       " 'https://whatsgabycooking.com/category/categories/soupsandwichburger',\n",
       " 'https://whatsgabycooking.com/category/categories/tacos',\n",
       " 'https://whatsgabycooking.com/category/categories/vegetarian']"
      ]
     },
     "execution_count": 41,
     "metadata": {},
     "output_type": "execute_result"
    }
   ],
   "source": [
    "category_urls = []\n",
    "for category in categories:\n",
    "    category_urls.append('https://whatsgabycooking.com/category/categories/' + category)\n",
    "category_urls"
   ]
  },
  {
   "cell_type": "code",
   "execution_count": 43,
   "id": "a156c010",
   "metadata": {},
   "outputs": [
    {
     "name": "stdout",
     "output_type": "stream",
     "text": [
      "https://whatsgabycooking.com/category/categories/appetizerssmall-bites completed\n",
      "https://whatsgabycooking.com/category/categories/avocado-central completed\n",
      "https://whatsgabycooking.com/category/categories/bowls completed\n",
      "https://whatsgabycooking.com/category/categories/bread1 completed\n",
      "https://whatsgabycooking.com/category/categories/breakfast-and-brunch completed\n",
      "https://whatsgabycooking.com/category/categories/snacks completed\n",
      "https://whatsgabycooking.com/category/categories/main-course completed\n",
      "https://whatsgabycooking.com/category/categories/dessert completed\n",
      "https://whatsgabycooking.com/category/categories/beveragecocktail completed\n",
      "https://whatsgabycooking.com/category/categories/food-restrictions-allergies completed\n",
      "https://whatsgabycooking.com/category/categories/game-day completed\n",
      "https://whatsgabycooking.com/category/categories/grilling completed\n",
      "https://whatsgabycooking.com/category/categories/healthyfigure-friendly completed\n",
      "https://whatsgabycooking.com/category/categories/holiday completed\n",
      "https://whatsgabycooking.com/category/categories/lunch completed\n",
      "https://whatsgabycooking.com/category/categories/meat completed\n",
      "https://whatsgabycooking.com/category/categories/pastarisotto completed\n",
      "https://whatsgabycooking.com/category/categories/pizza completed\n",
      "https://whatsgabycooking.com/category/categories/poultry-categories completed\n",
      "https://whatsgabycooking.com/category/categories/salad completed\n",
      "https://whatsgabycooking.com/category/categories/sandwiches-burgers completed\n",
      "https://whatsgabycooking.com/category/categories/sauces completed\n",
      "https://whatsgabycooking.com/category/categories/seafood completed\n",
      "https://whatsgabycooking.com/category/categories/seasonal completed\n",
      "https://whatsgabycooking.com/category/categories/side-dish completed\n",
      "https://whatsgabycooking.com/category/categories/snacks-categories completed\n",
      "https://whatsgabycooking.com/category/categories/soupsandwichburger completed\n",
      "https://whatsgabycooking.com/category/categories/tacos completed\n",
      "https://whatsgabycooking.com/category/categories/vegetarian completed\n"
     ]
    }
   ],
   "source": [
    "category_pages = []\n",
    "for category, url in zip(categories, category_urls):\n",
    "    category_pages.append(get_category_pages(url,category))\n",
    "    print(f'{url} completed')"
   ]
  },
  {
   "cell_type": "code",
   "execution_count": 50,
   "id": "6d077a3b",
   "metadata": {},
   "outputs": [
    {
     "name": "stdout",
     "output_type": "stream",
     "text": [
      "322\n"
     ]
    },
    {
     "data": {
      "text/plain": [
       "['https://whatsgabycooking.com/category/categories/appetizerssmall-bites',\n",
       " 'https://whatsgabycooking.com/category/categories/appetizerssmall-bites/page/2',\n",
       " 'https://whatsgabycooking.com/category/categories/appetizerssmall-bites/page/3',\n",
       " 'https://whatsgabycooking.com/category/categories/appetizerssmall-bites/page/4',\n",
       " 'https://whatsgabycooking.com/category/categories/appetizerssmall-bites/page/5',\n",
       " 'https://whatsgabycooking.com/category/categories/appetizerssmall-bites/page/6',\n",
       " 'https://whatsgabycooking.com/category/categories/appetizerssmall-bites/page/7',\n",
       " 'https://whatsgabycooking.com/category/categories/appetizerssmall-bites/page/8',\n",
       " 'https://whatsgabycooking.com/category/categories/appetizerssmall-bites/page/9',\n",
       " 'https://whatsgabycooking.com/category/categories/appetizerssmall-bites/page/10',\n",
       " 'https://whatsgabycooking.com/category/categories/appetizerssmall-bites/page/11',\n",
       " 'https://whatsgabycooking.com/category/categories/appetizerssmall-bites/page/12',\n",
       " 'https://whatsgabycooking.com/category/categories/appetizerssmall-bites/page/13',\n",
       " 'https://whatsgabycooking.com/category/categories/appetizerssmall-bites/page/14',\n",
       " 'https://whatsgabycooking.com/category/categories/avocado-central',\n",
       " 'https://whatsgabycooking.com/category/categories/avocado-central/page/2',\n",
       " 'https://whatsgabycooking.com/category/categories/avocado-central/page/3',\n",
       " 'https://whatsgabycooking.com/category/categories/avocado-central/page/4',\n",
       " 'https://whatsgabycooking.com/category/categories/avocado-central/page/5',\n",
       " 'https://whatsgabycooking.com/category/categories/avocado-central/page/6']"
      ]
     },
     "execution_count": 50,
     "metadata": {},
     "output_type": "execute_result"
    }
   ],
   "source": [
    "# category_pages is list of lists - flatten to get all links in one list\n",
    "import itertools\n",
    "\n",
    "all_category_pages = list(itertools.chain(*category_pages))\n",
    "print(len(all_category_pages))"
   ]
  },
  {
   "cell_type": "code",
   "execution_count": 51,
   "id": "8c9fd64e",
   "metadata": {},
   "outputs": [
    {
     "name": "stdout",
     "output_type": "stream",
     "text": [
      "322\n"
     ]
    },
    {
     "data": {
      "text/plain": [
       "['https://whatsgabycooking.com/pao-de-queijo/',\n",
       " 'https://whatsgabycooking.com/pizza-stuffed-mushrooms/',\n",
       " 'https://whatsgabycooking.com/hangover-nachos/',\n",
       " 'https://whatsgabycooking.com/bacon-cotija-guacamole/',\n",
       " 'https://whatsgabycooking.com/baked-brie-fillo-shells-fig-preserves/',\n",
       " 'https://whatsgabycooking.com/chipotle-sweet-potato-fries/',\n",
       " 'https://whatsgabycooking.com/tabasco-bacon-cheddar-wings/',\n",
       " 'https://whatsgabycooking.com/cheesy-pull-apart-bread/',\n",
       " 'https://whatsgabycooking.com/mini-chicken-tostadas/',\n",
       " 'https://whatsgabycooking.com/loaded-nachos/',\n",
       " 'https://whatsgabycooking.com/whipped-feta/',\n",
       " 'https://whatsgabycooking.com/spicy-cheesy-guacamole/',\n",
       " 'https://whatsgabycooking.com/bell-pepper-and-mint-lentil-hummus/',\n",
       " 'https://whatsgabycooking.com/cheesy-guacamole/',\n",
       " 'https://whatsgabycooking.com/pepper-jack-stuffed-pretzel-bites/',\n",
       " 'https://whatsgabycooking.com/party-nachos/',\n",
       " 'https://whatsgabycooking.com/avocado-prosciutto-crostini/',\n",
       " 'https://whatsgabycooking.com/chili-lime-roasted-cashews/']"
      ]
     },
     "execution_count": 51,
     "metadata": {},
     "output_type": "execute_result"
    }
   ],
   "source": [
    "all_links = []\n",
    "for url in all_category_pages:\n",
    "    page_recipes = get_category_recipes(url)\n",
    "    all_links.append(page_recipes)\n",
    "print(len(all_links))"
   ]
  },
  {
   "cell_type": "code",
   "execution_count": 52,
   "id": "2907a23d",
   "metadata": {},
   "outputs": [
    {
     "name": "stdout",
     "output_type": "stream",
     "text": [
      "5551\n"
     ]
    }
   ],
   "source": [
    "all_recipe_links = list(itertools.chain(*all_links))\n",
    "print(len(all_recipe_links))"
   ]
  },
  {
   "cell_type": "code",
   "execution_count": 55,
   "id": "c4fb073e",
   "metadata": {},
   "outputs": [],
   "source": [
    "import pickle\n",
    "\n",
    "with open('all_recipe_links.pkl','wb') as f:\n",
    "    pickle.dump(all_recipe_links, f)"
   ]
  },
  {
   "cell_type": "code",
   "execution_count": null,
   "id": "b2b1156f",
   "metadata": {},
   "outputs": [],
   "source": []
  },
  {
   "cell_type": "code",
   "execution_count": null,
   "id": "48627fa3",
   "metadata": {},
   "outputs": [],
   "source": []
  },
  {
   "cell_type": "code",
   "execution_count": null,
   "id": "a971bba0",
   "metadata": {},
   "outputs": [],
   "source": []
  }
 ],
 "metadata": {
  "kernelspec": {
   "display_name": "Python [conda env:metis] *",
   "language": "python",
   "name": "conda-env-metis-py"
  },
  "language_info": {
   "codemirror_mode": {
    "name": "ipython",
    "version": 3
   },
   "file_extension": ".py",
   "mimetype": "text/x-python",
   "name": "python",
   "nbconvert_exporter": "python",
   "pygments_lexer": "ipython3",
   "version": "3.8.10"
  }
 },
 "nbformat": 4,
 "nbformat_minor": 5
}
