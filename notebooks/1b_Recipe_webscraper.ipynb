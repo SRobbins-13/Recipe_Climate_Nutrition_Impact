{
 "cells": [
  {
   "cell_type": "markdown",
   "id": "eec8cea3",
   "metadata": {},
   "source": [
    "# 1b. Gather all Recipe data from links"
   ]
  },
  {
   "cell_type": "code",
   "execution_count": 1,
   "id": "4d7ce707",
   "metadata": {},
   "outputs": [],
   "source": [
    "import re\n",
    "\n",
    "import requests, bs4\n",
    "from bs4 import BeautifulSoup as bs\n",
    "import pandas as pd\n",
    "from pprint import pprint\n",
    "from fake_useragent import UserAgent"
   ]
  },
  {
   "cell_type": "code",
   "execution_count": 2,
   "id": "fc2cedda",
   "metadata": {},
   "outputs": [],
   "source": [
    "HEADERS = {\n",
    "    'User-Agent': 'Mozilla/5.0 (Windows NT 10.0; Win64; x64) AppleWebKit/537.36 (KHTML, like Gecko) Chrome/58.0.3029.110 Safari/537.36'\n",
    "}"
   ]
  },
  {
   "cell_type": "code",
   "execution_count": 3,
   "id": "67589087",
   "metadata": {},
   "outputs": [],
   "source": [
    "def check_response(url):\n",
    "    response = requests.get(url, headers = HEADERS)\n",
    "    status = response.status_code\n",
    "    if status == 200:\n",
    "      page = response.text\n",
    "      soup = bs(page)\n",
    "    else:\n",
    "      print(f\"Oops! Received status code {status} for {url}\")\n",
    "    \n",
    "    return soup"
   ]
  },
  {
   "cell_type": "code",
   "execution_count": 6,
   "id": "52c4714b",
   "metadata": {},
   "outputs": [],
   "source": [
    "def get_ingredients(soup):\n",
    "    try:\n",
    "        # Get list of all the html blocks with ingredients \n",
    "        ing_list = soup.find_all('li',{'class':'wprm-recipe-ingredient'})\n",
    "\n",
    "        ingredients = []\n",
    "\n",
    "        # Get the individual amts, units, and name for each ingredient\n",
    "        for ingredient in ing_list:\n",
    "            single_ingredient = {}\n",
    "\n",
    "            ingredient_name = ingredient.find('span',{'class':'wprm-recipe-ingredient-name'}).get_text()\n",
    "\n",
    "            try:\n",
    "                ingredient_amt = ingredient.find('span',{'class':'wprm-recipe-ingredient-amount'}).get_text()\n",
    "            except:\n",
    "                ingredient_amt = None\n",
    "\n",
    "            try:\n",
    "                ingredient_unit = ingredient.find('span',{'class':'wprm-recipe-ingredient-unit'}).get_text()\n",
    "            except:\n",
    "                ingredient_unit = None\n",
    "\n",
    "\n",
    "            # Add values to ingredient_dict\n",
    "            single_ingredient['name'] = ingredient_name\n",
    "            single_ingredient['amount'] = ingredient_amt\n",
    "            single_ingredient['unit'] = ingredient_unit\n",
    "\n",
    "            ingredients.append(single_ingredient)\n",
    "\n",
    "        return ingredients\n",
    "    \n",
    "    except:\n",
    "        return None\n",
    "\n",
    "def get_instructions(soup):\n",
    "    try:\n",
    "        instructions = soup.find_all('li',{'class':'wprm-recipe-instruction'})\n",
    "        instruction_list = []\n",
    "        i = 1\n",
    "\n",
    "        for row in instructions:\n",
    "            step = '{}. '.format(i) + row.get_text()\n",
    "            instruction_list.append(step)\n",
    "\n",
    "            i += 1\n",
    "\n",
    "        return instruction_list\n",
    "\n",
    "    except:\n",
    "        return None\n",
    "\n",
    "def whats_gaby_cooking(url):\n",
    "    soup = check_response(url)\n",
    "    \n",
    "    # Gathering Recipe Details\n",
    "    recipe_title = soup.find('h1',{'class':'entry-title'}).get_text()\n",
    "\n",
    "    try:\n",
    "        total_time = soup.find('p', {'class': 'header-recipe-time'}).get_text()\n",
    "    except:\n",
    "        total_time = None\n",
    "\n",
    "    try:\n",
    "        course = soup.find('span', {'class': 'wprm-recipe-course wprm-block-text-normal'}).get_text()\n",
    "    except: \n",
    "        course = None\n",
    "\n",
    "    try:  \n",
    "        cuisine = soup.find('span', {'class': 'wprm-recipe-cuisine wprm-block-text-normal'}).get_text()\n",
    "    except:\n",
    "        cuisine = None\n",
    "    \n",
    "    ingredients = get_ingredients(soup)\n",
    "    instructions = get_instructions(soup)\n",
    "\n",
    "    recipe_dict = {}\n",
    "    recipe_dict['title'] = recipe_title\n",
    "    recipe_dict['time'] = total_time\n",
    "    recipe_dict['course'] = course\n",
    "    recipe_dict['cuisine'] = cuisine\n",
    "    recipe_dict['ingredients'] = ingredients\n",
    "    recipe_dict['instructions'] = instructions\n",
    "\n",
    "    return recipe_dict"
   ]
  },
  {
   "cell_type": "code",
   "execution_count": 4,
   "id": "554f59f2",
   "metadata": {},
   "outputs": [
    {
     "name": "stdout",
     "output_type": "stream",
     "text": [
      "5551\n"
     ]
    },
    {
     "data": {
      "text/plain": [
       "['https://whatsgabycooking.com/spinach-dip/',\n",
       " 'https://whatsgabycooking.com/lemon-pepper-parmesan-wings/',\n",
       " 'https://whatsgabycooking.com/queso-fundido/',\n",
       " 'https://whatsgabycooking.com/100-best-snacks-for-the-super-bowl/',\n",
       " 'https://whatsgabycooking.com/parmesan-arancini/',\n",
       " 'https://whatsgabycooking.com/baked-brie/',\n",
       " 'https://whatsgabycooking.com/marinated-olives-and-feta/',\n",
       " 'https://whatsgabycooking.com/cucumber-feta-salad/',\n",
       " 'https://whatsgabycooking.com/zucchini-fritters-with-yogurt-feta-dipping-sauce/',\n",
       " 'https://whatsgabycooking.com/spicy-roasted-castelvetrano-olives-with-feta/']"
      ]
     },
     "execution_count": 4,
     "metadata": {},
     "output_type": "execute_result"
    }
   ],
   "source": [
    "import pickle\n",
    "\n",
    "open_file = open('all_recipe_links.pkl', \"rb\")\n",
    "all_recipe_links = pickle.load(open_file)\n",
    "open_file.close()\n",
    "\n",
    "print(len(all_recipe_links))\n",
    "all_recipe_links[:10]"
   ]
  },
  {
   "cell_type": "code",
   "execution_count": 24,
   "id": "c06aa76b",
   "metadata": {},
   "outputs": [],
   "source": [
    "import time\n",
    "\n",
    "rec_per_page = 500\n",
    "overage = len(all_recipe_links) % rec_per_page\n",
    "max_page_num = (len(all_recipe_links) // rec_per_page) + 1\n",
    "\n",
    "recipe_list = []\n",
    "page_num = 1\n",
    "\n",
    "issue_links = []\n",
    "\n",
    "for link in all_recipe_links:\n",
    "    try:\n",
    "        recipe_dict = whats_gaby_cooking(link)\n",
    "        recipe_list.append(recipe_dict)\n",
    "\n",
    "        if len(recipe_list) == rec_per_page:\n",
    "            filename = 'recipes_{}'.format(page_num)\n",
    "            with open('data/{}.pkl'.format(filename), 'wb') as f:\n",
    "                pickle.dump(recipe_list,f)\n",
    "\n",
    "            del recipe_list[:]\n",
    "            page_num += 1\n",
    "        \n",
    "        # saving file with final recipes\n",
    "        if page_num == max_page_num and len(recipe_list) == overage:\n",
    "            filename = 'recipes_{}'.format(page_num)\n",
    "            with open('data/{}.pkl'.format(filename), 'wb') as f:\n",
    "                pickle.dump(recipe_list,f)\n",
    "\n",
    "        time.sleep(0.1)\n",
    "        \n",
    "    except:\n",
    "        issue_links.append(link)"
   ]
  },
  {
   "cell_type": "code",
   "execution_count": 31,
   "id": "944fe531",
   "metadata": {},
   "outputs": [
    {
     "data": {
      "text/plain": [
       "['https://whatsgabycooking.com/lemon-curd-mousse-tart/',\n",
       " 'https://whatsgabycooking.com/daring-bakers-tiramisu/',\n",
       " 'https://whatsgabycooking.com/daring-bakers-dobos-torta/',\n",
       " 'https://whatsgabycooking.com/daring-bakers-mallows-chocolate-covered-marshmallow-cookies/',\n",
       " 'https://whatsgabycooking.com/daring-bakers-tiramisu/',\n",
       " 'https://whatsgabycooking.com/tuscan-chicken-pizza-sandwich/',\n",
       " 'https://whatsgabycooking.com/tuscan-chicken-pizza-sandwich/']"
      ]
     },
     "execution_count": 31,
     "metadata": {},
     "output_type": "execute_result"
    }
   ],
   "source": [
    "issue_links"
   ]
  },
  {
   "cell_type": "markdown",
   "id": "72cde853",
   "metadata": {},
   "source": [
    "Remove issue links from `all_recipe_links` list."
   ]
  },
  {
   "cell_type": "code",
   "execution_count": 47,
   "id": "76951e08",
   "metadata": {},
   "outputs": [],
   "source": [
    "final_links = [link for link in all_recipe_links if link not in issue_links]\n",
    "\n",
    "with open('data/final_recipe_links.pkl', 'wb') as f:\n",
    "    pickle.dump(final_links,f)"
   ]
  },
  {
   "cell_type": "markdown",
   "id": "3f1620a7",
   "metadata": {},
   "source": [
    "#### Data Check"
   ]
  },
  {
   "cell_type": "code",
   "execution_count": 32,
   "id": "9ccbcf35",
   "metadata": {
    "scrolled": false
   },
   "outputs": [
    {
     "data": {
      "text/plain": [
       "500"
      ]
     },
     "execution_count": 32,
     "metadata": {},
     "output_type": "execute_result"
    }
   ],
   "source": [
    "open_file = open('data/recipes_1.pkl', \"rb\")\n",
    "recipes_1 = pickle.load(open_file)\n",
    "open_file.close()\n",
    "len(recipes_1)"
   ]
  },
  {
   "cell_type": "code",
   "execution_count": null,
   "id": "e25e4f9f",
   "metadata": {},
   "outputs": [],
   "source": []
  }
 ],
 "metadata": {
  "kernelspec": {
   "display_name": "Python [conda env:metis] *",
   "language": "python",
   "name": "conda-env-metis-py"
  },
  "language_info": {
   "codemirror_mode": {
    "name": "ipython",
    "version": 3
   },
   "file_extension": ".py",
   "mimetype": "text/x-python",
   "name": "python",
   "nbconvert_exporter": "python",
   "pygments_lexer": "ipython3",
   "version": "3.8.10"
  }
 },
 "nbformat": 4,
 "nbformat_minor": 5
}
